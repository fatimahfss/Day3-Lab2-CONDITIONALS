{
 "cells": [
  {
   "cell_type": "code",
   "execution_count": 34,
   "metadata": {},
   "outputs": [],
   "source": [
    "MovieName='Happiness pursuit'"
   ]
  },
  {
   "cell_type": "code",
   "execution_count": 35,
   "metadata": {},
   "outputs": [
    {
     "name": "stdout",
     "output_type": "stream",
     "text": [
      "I recommended it . It is good\n"
     ]
    }
   ],
   "source": [
    "MovieRate=3\n",
    "PopularityScore=72.65\n",
    "if MovieRate>=4 and PopularityScore>80:\n",
    "    print(\"Highly recommended\")\n",
    "elif MovieRate>=3 and PopularityScore>70:\n",
    "    print(\"I recommended it . It is good\")\n",
    "elif MovieRate<=2 and PopularityScore>60:\n",
    "    print(\"you should check it out!\")\n",
    "elif MovieRate<2 and PopularityScore<50:\n",
    "    print(\"Don't watch it. It is a waste of time\")\n",
    "    \n",
    "    \n",
    "    \n",
    "\n"
   ]
  },
  {
   "cell_type": "code",
   "execution_count": null,
   "metadata": {},
   "outputs": [],
   "source": []
  },
  {
   "cell_type": "code",
   "execution_count": null,
   "metadata": {},
   "outputs": [],
   "source": []
  }
 ],
 "metadata": {
  "kernelspec": {
   "display_name": "Python 3",
   "language": "python",
   "name": "python3"
  },
  "language_info": {
   "codemirror_mode": {
    "name": "ipython",
    "version": 3
   },
   "file_extension": ".py",
   "mimetype": "text/x-python",
   "name": "python",
   "nbconvert_exporter": "python",
   "pygments_lexer": "ipython3",
   "version": "3.7.9"
  }
 },
 "nbformat": 4,
 "nbformat_minor": 4
}
